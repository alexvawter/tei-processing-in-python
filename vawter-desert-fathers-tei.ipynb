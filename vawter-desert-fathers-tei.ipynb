{
 "cells": [
  {
   "cell_type": "code",
   "execution_count": 51,
   "metadata": {
    "collapsed": true
   },
   "outputs": [],
   "source": [
    "import xml.etree.ElementTree as ET"
   ]
  },
  {
   "cell_type": "code",
   "execution_count": 52,
   "metadata": {
    "collapsed": true
   },
   "outputs": [],
   "source": [
    "import urllib.request"
   ]
  },
  {
   "cell_type": "code",
   "execution_count": 109,
   "metadata": {
    "collapsed": true
   },
   "outputs": [],
   "source": [
    "xml_desert_fathers = \"https://raw.githubusercontent.com/alexvawter/dh-course-fall-2017/master/isaw-xml/isaw-vawter-ap.xml\""
   ]
  },
  {
   "cell_type": "code",
   "execution_count": 114,
   "metadata": {
    "scrolled": false
   },
   "outputs": [
    {
     "name": "stdout",
     "output_type": "stream",
     "text": [
      "<?xml version=\"1.0\" encoding=\"UTF-8\"?>\n",
      "<?xml-model href=\"http://www.stoa.org/epidoc/schema/latest/tei-epidoc.rng\" type=\"application/xml\" schematypens=\"http://relaxng.org/ns/structure/1.0\"?>\n",
      "<TEI xmlns=\"http://www.tei-c.org/ns/1.0\">\n",
      "    <teiHeader>\n",
      "        <fileDesc>\n",
      "            <titleStmt>\n",
      "                <title></title>\n",
      "            </titleStmt>\n",
      "            <publicationStmt>\n",
      "                <p>For ISAW DH</p>\n",
      "            </publicationStmt>\n",
      "            <sourceDesc>\n",
      "                <p>Apophthegmata Patrum, The Alphabetical Collection</p>\n",
      "                <p>translated by Benedicta Ward</p>\n",
      "            </sourceDesc>\n",
      "        </fileDesc>\n",
      "    </teiHeader>\n",
      "  \n",
      "    <text>\n",
      "       <body>\n",
      "           <div type= \"textpart\" n=\"chapter1\">\n",
      "            <head>\n",
      "                <title><persName>BASIL THE GREAT</persName></title> \n",
      "                <persName>Basil the Great</persName> <date>(c. 330-79)</date> was the brother of <persName>Gregory of Nyssa</persName> and <persName>Macrina</persName>. After an excellent education he became a monk in <placeName>Syria</placeName> and <placeName>Egypt</placeName> and settled for a time as a hermit in <placeName>Neocaesarea</placeName> (358). In 370 he succeeded <persName>Eusebius</persName> as Bishop of Caesarea\\ and was the defender of Orthodoxy against the heresy of <persName>Arius</persName>. He organized monastic life in and around <placeName>Caesarea</placeName>, bringing structure and organization into the way of life learnt in <placeName>Egypt</placeName>. He put forward in two books precepts for the monastic life, called The Longer Rule and The Shorter Rule; this was revised by <persName>Theodore the Studite</persName> in the early ninth century, and is a basic document for Eastern monasticism.\n",
      "            </head>\n",
      "                <p>\n",
      "                    1. One of the old men said, 'When Saint Basil came to the monastery one day, he said to the abbot, after the customary exhortation, <quote>\"Have you a brother here who is obedient?\"</quote> The other replied, \"They are all your servants, master, and strive for their salvation.\" But he repeated, \"Have you a brother who is really obedient?\" Then the abbot led a brother to him and Saint Basil used him to serve during the meal. When the meal was ended, the brother brought him some water for rinsing his hands and Saint Basil said to him, \"Come here, so that I also may offer you water.\" The brother allowed the bishop to pour the water. Then Saint Basil said to him, \"When I enter the sanctuary, come, that I may ordain you deacon.\" When this was done, he ordained him priest and took him with him to the bishop's palace because of his obedience.'    \n",
      "                   </p>   \n",
      "           </div>\n",
      "           <div type= \"textpart\" n=\"chapter2\">\n",
      "               <head>\n",
      "                   <title><persName>EPHREM</persName></title>\n",
      "               (possibly <persName>Ephrem <addName><addName>the Syrian</addName>, the hymn writer</addName></persName>) \n",
      "               </head>\n",
      "                    <p>\n",
      "           1. While yet a child, <addName>Abba Ephrem</addName> had a dream and then a vision. A branch of vine came out of his tongue, grew bigger and filled everything under heaven. It was laden with beautiful fruit. All the birds of heaven came to eat of the fruit of the vine, and the more they ate, the more the fruit increased.\n",
      "           2. Another time, one of the saints had a vision. According to the commandment of God, a band of angels descended from heaven, holding in their hands a kephalis (that is to say, a piece of papyrus covered with writing), and they said to one another, 'To whom should we give this?' Some said, 'To this one,' others, 'To that one.' Then the answer came in these words, 'Truly, they are holy and righteous, but none of them is able to receive this, except Ephrem.' The old man saw that the kephalis was given to Ephrem and he saw as it were a fountain flowing from his lips. Then he understood that that which came from the lips of Ephrem was of the Holy Spirit.\n",
      "           3. Another time, when Ephrem was on the road, a prostitute tried by her flatteries, if not to lead him to shameful intercourse, at least to make him angry, for no-one had every seen him angry. He said to her, 'Follow me.' When they had reached a very crowded\n",
      "place, he said to her, 'In this place, come, do what you desire.' But she, seeing the crowd, said to him, 'How can we do what we want to do in front of so great a crowd, without being ashamed?' He replied, 'If you blush before men, how much more should we blush before God, who knows what is hidden in darkness?' She was covered with shame and went away without having achieved anything.\n",
      "                    </p>\n",
      "           </div> \n",
      "           <div type= \"textpart\" n=\"chapter3\"> \n",
      "            <head>\n",
      "                <title><persName>PAMBO</persName></title>\n",
      "                   Pambo, born about <date>A.D. 303</date>, was one of the first to join <persName>Amoun</persName> in <placeName>Nitria</placeName>. He was an Egyptian and illiterate, until taught the Scriptures as a monk and ordained priest, in <date>340</date>. He was invited by <persName>Bishop Athanasius</persName> to go to <placeName>Alexandria</placeName>. With <persName>Macarius</persName> and <persName>Isidore</persName> he was counted by <persName>Jerome</persName> as one of the masters of the desert. <persName>Melania</persName> met him when she visited <placeName>Egypt</placeName>. He died about A.D. <date>373</date>.\n",
      "            </head>\n",
      "                <p>\n",
      "                   1. There was a monk named Pambo and they said of him that he spent three years saying to God, 'Do not glorify me on earth.'  \n",
      "                   God glorified him so that one could not gaze steadfastly at him\n",
      "                   because of the glory of his countenance.\n",
      "                   2. Two brethren came to see <persName><addName>Abba</addName>Pambo</persName> one day and the first asked him, 'Abba, I fast for two days, then I eat two loaves; am I saving my soul, or am I going the wrong way?' The second said, 'Abba, every day I get two pence from my manual work, and I keep a little for my food and give the rest in alms; shall I be saved or shall I be lost?' They remained a long time questioning him and still the old man gave them no reply. After four days they had to leave and the priests comforted them saying, 'Do not be troubled, brothers. God gives the reward. It is the old man's custom not to speak readily till God inspires him.' So they went to see the old man and said to him, 'Abba, pray for us.' He said to them, 'Do you want to go away?' They said, 'Yes.' Then, giving his mind to their works and writing on the ground he said, 'If Pambo fasted for two days together and ate two loaves, would he become a monk that way? No. And if Pambo works to get two pence and gives them in alms, would he become a monk that way? No, not that way either.' He said to them, 'The works are good, but if you guard your conscience towards your neighbour, then you will be saved.' They were satisfied and went away joyfully.\n",
      "                   3. Four monks of <placeName>Scetis</placeName>, clothed in skins, came one day to see the great Pambo. Each one revealed the virtue of his neighbour. The first fasted a great deal; the second was poor; the third had acquired great charity; and they said of the fourth that he had lived for twenty-two years in obedience to an old man. Abba Pambo said to them, 'I tell you, the virtue of this last one is the greatest. Each of the others has obtained the virtue he wished to acquire; but the last one, restraining his own will, does the will of another. Now it is of such men that the martyrs are made, if they persevere to the end.'\n",
      "                    4. <persName>Athanasius, <addName>Archbishop of Alexandria</addName>,</persName> of holy memory, begged Abba Pambo to come down from the desert to Alexandria. He went down, and seeing an actress he began to weep. Those who were present asked him the reason for his tears, and he said, 'Two things make me weep: one, the loss of this woman; and the other, that I am not so concerned to please God as she is to please wicked men.'\n",
      "                   5. Abba Pambo said, 'By the grace of God, since I left the world,\n",
      "                   I have not said one word of which I repented afterwards.'\n",
      "                   6. He also said, 'The monk should wear a garment of such a kind that he could throw it out of his cell and no-one would steal it from him for three days.'\n",
      "                   7. Once it happened that Abba Pambo made the journey to Egypt with some brothers. Meeting some lay people who were sitting down, he said to them, 'Stand up, greet the monks, so that you may be blessed, for they speak with God without interruption and their lips are holy.'\n",
      "                   8. They said of Abba Pambo that as he was dying, at the very hour of his death, he said to the holy men who were standing near him, 'Since I came to this place of the desert and built my cell and dwelt here, I do not remember having eaten bread which was not the fruit of my hands and I have not repented of a word I have said up to the present time; and yet I am going to God as one who has not yet begun to serve him.'\n",
      "                   9. He was greater than many others in that if he was asked to interpret part of the Scriptures or a spiritual saying, he would not reply immediately, but he would say he did not know that saying. If he was asked again, he would say no more.\n",
      "                   10. Abba Pambo said, 'If you have a heart, you can be saved.'\n",
      "                   11. The priest of Nitria asked him how the brethren ought to live. He replied, 'With much labour, guarding their consciences towards their neighbour.'\n",
      "                   12. They said of Abba Pambo that he was like Moses, who received the image of the glory of Adam when his face shone. His face shone like lightening and he was like a king sitting on his throne. It was the same with Abba Silvanus and Abba Sisoes.\n",
      "                   13. They said of Abba Pambo that his face never smiled. So one day, wishing to make him laugh, the demons stuck wing feathers on to a lump of wood and brought it in making an uproar and saying, 'Go, go.' When he saw them Abba Pambo began to laugh and the demons started to say in chorus, 'Ha! ha! Pambo has laughed!' But in reply he said to them, 'I have not laughed, but I made fun of your powerlessness, because it takes so many of you\n",
      "                   to carry a wing.'\n",
      "                   14. Abba Theodore of Pherme asked Abba Pambo, 'Give me a word.' With much difficulty he said to him, 'Theodore, go and have pity on all, for through pity, one finds freedom of speech before God.'\n",
      "                </p> \n",
      "           </div>\n",
      "           <div type= \"textpart\" n=\"chapter4\"> \n",
      "               <head>\n",
      "                   <title><persName>SARAH</persName></title>\n",
      "               </head>\n",
      "                   <p>\n",
      "                       1. It was related of <persName><addName>Amma</addName> Sarah</persName> that for thirteen years she waged warfare against the demon of fornication. She never prayed that the warfare should cease but she said, 'O God, give me strength.'\n",
      "                      \n",
      "                       2. Once the same spirit of fornication attacked her more insistently, reminding her of the vanities of the world. But she gave herself up to the fear of God and to asceticism and went up onto her little terrace to pray. Then the spirit of fornication appeared corporally to her and said, 'Sarah, you have overcome me.' But she said, 'It is not I who have overcome you, but my master, Christ.'\n",
      "                       3. It was said concerning her that for sixty years she lived beside a river and never lifted her eyes to look at it.\n",
      "                       4. Another time, two old men, great anchorites, came to the district of Pelusia to visit her. When they arrived one said to the other, 'Let us humiliate this old woman.' So they said to her, 'Be careful not to become conceited thinking to yourself: \"Look how anchorites are coming to see me, a mere woman.\" ' But Amma Sarah said to them, 'According to nature I am a woman, but not according to my thoughts.'\n",
      "                       5. Amma Sarah said, 'If I prayed God that all men should ap- prove of my conduct, I should find myself a penitent at the door of each one, but I shall rather pray that my heart may be pure towards all.'\n",
      "                       6. She also said, 'I put out my foot to ascend the ladder, and I place death before my eyes before going up it.'\n",
      "                       7. She also said, 'It is good to give alms for men's sake. Even if it is only done to please men, through it one can begin to seek to please God.'\n",
      "                       8. Some monks of Scetis came one day to visit Amma Sarah. She offered them a small basket of fruit. They left the good fruit and ate the bad. So she said to them, 'You are true monks of <placeName>Scetis</placeName>.'\n",
      "                       9. She also said to the brothers, 'It is I who am a man, you who are women.'*\n",
      "                   </p>\n",
      "           </div>\n",
      "       </body>\n",
      "    </text>\n",
      "</TEI>\n",
      "\n"
     ]
    }
   ],
   "source": [
    "with urllib.request.urlopen(xml_desert_fathers) as f:\n",
    "    xml_as_string = f.read().decode('utf-8')\n",
    "    print(xml_as_string)"
   ]
  },
  {
   "cell_type": "code",
   "execution_count": 111,
   "metadata": {},
   "outputs": [
    {
     "name": "stdout",
     "output_type": "stream",
     "text": [
      "<class 'xml.etree.ElementTree.Element'>\n"
     ]
    }
   ],
   "source": [
    "root = ET.fromstring(xml_as_string) \n",
    "print(type(root))"
   ]
  },
  {
   "cell_type": "code",
   "execution_count": 112,
   "metadata": {},
   "outputs": [
    {
     "name": "stdout",
     "output_type": "stream",
     "text": [
      "{http://www.tei-c.org/ns/1.0}teiHeader {}\n",
      "{http://www.tei-c.org/ns/1.0}text {}\n"
     ]
    }
   ],
   "source": [
    "for child in root:\n",
    "    print(child.tag, child.attrib)"
   ]
  },
  {
   "cell_type": "code",
   "execution_count": null,
   "metadata": {
    "collapsed": true
   },
   "outputs": [],
   "source": []
  },
  {
   "cell_type": "code",
   "execution_count": 116,
   "metadata": {},
   "outputs": [],
   "source": [
    "for persName in root.findall('{http://www.tei-c.org/ns/1.0}persName'):\n",
    "    print(persName.text)"
   ]
  },
  {
   "cell_type": "code",
   "execution_count": 26,
   "metadata": {},
   "outputs": [
    {
     "name": "stdout",
     "output_type": "stream",
     "text": [
      "Counter()\n"
     ]
    }
   ],
   "source": [
    "from collections import Counter\n",
    "\n",
    "expans = [expan.text for expan in xml_elements.findall('.//{http://www.tei-c.org/ns/1.0}expan')]\n",
    "\n",
    "c = Counter(expans)\n",
    "print(c)"
   ]
  }
 ],
 "metadata": {
  "kernelspec": {
   "display_name": "Python 3",
   "language": "python",
   "name": "python3"
  },
  "language_info": {
   "codemirror_mode": {
    "name": "ipython",
    "version": 3
   },
   "file_extension": ".py",
   "mimetype": "text/x-python",
   "name": "python",
   "nbconvert_exporter": "python",
   "pygments_lexer": "ipython3",
   "version": "3.6.1"
  }
 },
 "nbformat": 4,
 "nbformat_minor": 2
}
